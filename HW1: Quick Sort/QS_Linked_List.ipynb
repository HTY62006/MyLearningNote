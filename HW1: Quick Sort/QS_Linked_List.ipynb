{
 "cells": [
  {
   "cell_type": "markdown",
   "metadata": {},
   "source": [
    "# 使用Linked List來做Quick Sort\n",
    "巨資三B 06170232 洪敦媛\n",
    "<br>2019.10.04~2019.10.18 AM9:00\n",
    "## 自己試圖使用Linked list來進行Quick Sort\n",
    "我原先的想法和我用list寫出來的quick sort相似，就是將linked list的第一位設為pivot、小於pivot就設為left、大於pivot就設為right......以此類推。\n",
    "\n",
    "不過實際畫圖推算的時候以及在leetcode測試時，發現我的寫法無法解釋如何將最後結果按照順序串接在一起，在leetcode跑code也會出錯，故先參考他人的做法來釐清該怎麼以linked list進行quick sort。\n",
    "\n",
    "[【錯誤的code】](https://github.com/HTY62006/MyLearningNote/blob/master/HW1:%20Quick%20Sort/WrongCode_UseLinkedList.py)\n",
    "## 參考老師與他人的做法\n",
    "![image](https://raw.githubusercontent.com/HTY62006/MyLearningNote/master/large_image/QS02.png)\n",
    "> 參考：\n",
    "  * [QuickSort LinkedList](https://github.com/pecu/DSA/blob/master/05_QuickSort/QuickSort_LinkedList.py#L36)\n",
    "  * [QuickSort on Singly Linked List](https://www.geeksforgeeks.org/quicksort-on-singly-linked-list/)"
   ]
  },
  {
   "cell_type": "markdown",
   "metadata": {},
   "source": [
    "參考老師與他人的做法後，將程式改為以下方式呈現：\n",
    "1. 在**`Solution(object)`**這個class中，先設置最終會回傳結果的函式`sortList(head)`。\n",
    "   * 如果head = None，表Linked list已結束，回傳None。\n",
    "   * 以`getTail(head)`計算出目前linked list的最後一位。\n",
    "   * 經由`QuickSort(head, tail)`可回傳已排序完畢德linked list的頭與尾。\n",
    "   * 設置tail.next = None，表Linked list結束。最後回傳head。"
   ]
  },
  {
   "cell_type": "markdown",
   "metadata": {},
   "source": [
    "2. 在函式`QuickSort(head, tail)`中，先判斷是否已分完。\n",
    "   * 如果head = tail的話，表示已無法再進行quick sort（遞迴）。若head ≠ tail，則須對尚未分完的部分繼續進行quick sort。\n",
    "   * if head != tail:\n",
    "     * 以函式`partition(head, tail)`進行分類，分出*小於*基準點(left)、*大於*基準點(right)與基準點的部分，回傳每個部分的頭與尾。\n",
    "     * 如果left的頭 = None，表不存在left，故head = 基準點的頭。否則將繼續進行quick sort。\n",
    "     * right的部分也是同理，若right不存在，則tail = 基準點的尾。否則將繼續進行quick sort。\n",
    "     * 當遞迴結束的時候，可回傳排序完畢的linked list目前的head和tail。\n",
    "     "
   ]
  },
  {
   "cell_type": "markdown",
   "metadata": {},
   "source": [
    "3. 在函式`partition(head, tail)`中，將linked list進行分類。\n",
    "   * 設定linked list的最後一位tail為基準點(pivot)。\n",
    "   * pivot的頭和尾皆等於pivot。\n",
    "   * 此時尚未分類的left與right的頭和尾的值均為None。\n",
    "   * 設立一新節點s = None方便後續進行推算(s.next = head)，要用來與基準點進行比較的節點node = s。\n",
    "   * 如果node.next != None的話（若為None則表linked list結束），以while迴圈進行分類：\n",
    "     * 要來進行判斷的節點node = node.next。\n",
    "     * 如果node的值 > pivot的值，分入right。\n",
    "       > 若原先right內為空，right的頭尾 = node。<br>若不為空，則每次迴圈利用right的尾(tail_r)，將其與node串接在一起(tail_r.next = node)，令新的tail_r = node。\n",
    "     * 如果node的值 < pivot的值，分入left。\n",
    "       > 與right的做法同理。\n",
    "     * 若都不屬於left或right，則將節點與pivot串間在一起(tail_piv.next = node)，令新的tail_piv = node。\n",
    "   * 回傳分類完畢的美部分的頭與尾。"
   ]
  },
  {
   "cell_type": "markdown",
   "metadata": {},
   "source": [
    "4. 函式`getTail(head)`僅用來計算位分類前最初的tail為何，以用來進行quick sort。"
   ]
  },
  {
   "cell_type": "markdown",
   "metadata": {},
   "source": [
    "目前僅將使用linked list來進行quick sort的邏輯弄明白，在Leetcode練習時大致上也與老師提供的解法相似。"
   ]
  },
  {
   "cell_type": "code",
   "execution_count": 1,
   "metadata": {},
   "outputs": [],
   "source": [
    "# Definition for singly-linked list.\n",
    "class ListNode(object):\n",
    "    def __init__(self, x):\n",
    "        self.val = x\n",
    "        self.next = None\n",
    "\n",
    "class Solution(object):        \n",
    "    def sortList(self, head):\n",
    "        \"\"\"\n",
    "        :type head: ListNode\n",
    "        :rtype: ListNode\n",
    "        \"\"\"\n",
    "        if head == None:\n",
    "            return None\n",
    "        tail = self.getTail(head)\n",
    "        head, tail = self.QuickSort(head, tail) # 進行quick sort，得到排序好的linked list新的head與tail\n",
    "        tail.next = None # Linked list結束\n",
    "        return head\n",
    "    \n",
    "    # Quick Sort\n",
    "    def QuickSort(self, head, tail):\n",
    "        # 若head=tail，代表已比對完畢，只剩下一個，若head≠tail，則對尚未分完的部分繼續進行quick sort\n",
    "        if head != tail:\n",
    "            # 將linked list由partition()進行分類並回傳值\n",
    "            head_l, tail_l, head_piv, tail_piv, head_r, tail_r = self.partition(head, tail)\n",
    "            if head_l == None: # 若left為空\n",
    "                head = head_piv \n",
    "            else:\n",
    "                head_l, tail_l = self.QuickSort(head_l, tail_l)\n",
    "                head = head_l\n",
    "                tail_l.next = head_piv\n",
    "            if head_r == None: # 若right為空\n",
    "                tail = tail_piv \n",
    "            else:\n",
    "                head_r, tail_r = self.QuickSort(head_r, tail_r)\n",
    "                tail_piv.next = head_r\n",
    "                tail = tail_r\n",
    "        return head, tail\n",
    "    \n",
    "    # 與基準點比較，分成left與right\n",
    "    def partition(self, head, tail):\n",
    "        pivot = tail #基準點設為tail\n",
    "        head_piv = pivot\n",
    "        tail_piv = pivot\n",
    "        head_l, tail_l, head_r, tail_r = None, None, None, None\n",
    "        \n",
    "        s = ListNode(None) # 使用s來簡化code\n",
    "        s.next = head\n",
    "        node = s\n",
    "        while node.next != tail:\n",
    "            node = node.next\n",
    "            if node.val > pivot.val: # > pivot，放入right\n",
    "                if head_r != None:\n",
    "                    tail_r.next = node\n",
    "                    tail_r = node\n",
    "                else: # right為空\n",
    "                    head_r = node\n",
    "                    tail_r = node\n",
    "            elif node.val < pivot.val: # > pivot，放入right\n",
    "                if head_l != None:\n",
    "                    tail_l.next = node\n",
    "                    tail_l = node\n",
    "                else: # left為空\n",
    "                    head_l = node\n",
    "                    tail_l = node\n",
    "            else: # 節點放入pivot\n",
    "                tail_piv.next = node\n",
    "                tail_piv = node\n",
    "        return head_l, tail_l, head_piv, tail_piv, head_r, tail_r\n",
    "    \n",
    "    # 取得linked list的最後一位\n",
    "    def getTail(self, node):\n",
    "        while node.next:\n",
    "            node = node.next\n",
    "        return node"
   ]
  },
  {
   "cell_type": "markdown",
   "metadata": {},
   "source": [
    "### [回首頁](https://github.com/HTY62006/MyLearningNote)"
   ]
  },
  {
   "cell_type": "code",
   "execution_count": null,
   "metadata": {},
   "outputs": [],
   "source": []
  }
 ],
 "metadata": {
  "kernelspec": {
   "display_name": "Python 3",
   "language": "python",
   "name": "python3"
  },
  "language_info": {
   "codemirror_mode": {
    "name": "ipython",
    "version": 3
   },
   "file_extension": ".py",
   "mimetype": "text/x-python",
   "name": "python",
   "nbconvert_exporter": "python",
   "pygments_lexer": "ipython3",
   "version": "3.6.4"
  }
 },
 "nbformat": 4,
 "nbformat_minor": 2
}
