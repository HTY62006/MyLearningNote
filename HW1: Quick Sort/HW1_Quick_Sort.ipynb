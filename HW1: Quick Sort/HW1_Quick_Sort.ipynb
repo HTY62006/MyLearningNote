{
 "cells": [
  {
   "cell_type": "markdown",
   "metadata": {},
   "source": [
    "# 作業一：Quick Sort\n",
    "巨資三B 06170232 洪敦媛\n",
    "<br>2019.10.04~2019.10.18 AM9:00\n",
    "## Quick Sort\n",
    "Quick sort（快速排序法）：\n",
    "1. 選定一基準值(Pivot)。\n",
    "2. 如果值 < Pivot，則歸類為`左子串列`。\n",
    "3. 如果值 > Pivot，則歸類為`右子串列`。\n",
    "4. 透過遞迴(Recursive)的方式處理：分別對左子串列與右子串列進行1~3步驟。\n",
    "5. 直到無法分裂出新的數列為止。"
   ]
  },
  {
   "cell_type": "markdown",
   "metadata": {},
   "source": [
    "![image](https://raw.githubusercontent.com/HTY62006/MyLearningNote/master/large_image/QS01.png)\n",
    "> 參考：[[演算法] 快速排序法(Quick Sort)](http://notepad.yehyeh.net/Content/Algorithm/Sort/Quick/Quick.php)"
   ]
  },
  {
   "cell_type": "markdown",
   "metadata": {},
   "source": [
    "## 我的作法\n",
    "利用list來實踐。\n",
    "1. 創三個list分別為：equal=[]、left=[]、right=[]。\n",
    "2. 默認第[0]位為pivot，進行比大小：\n",
    "   * 若 < pivot，則加入left。\n",
    "   * 若 > pivot，則加入right。\n",
    "   * 若 = pivot，則加入equal。\n",
    "3. 重複1~2步，直到每個list長度 <= 1。\n",
    "4. 得到排序好的結果。\n",
    "#### example = [34,21,5,9,0,12,-3,-15]"
   ]
  },
  {
   "cell_type": "markdown",
   "metadata": {},
   "source": [
    "## 流程圖\n",
    "![image]()"
   ]
  },
  {
   "cell_type": "code",
   "execution_count": 6,
   "metadata": {},
   "outputs": [],
   "source": [
    "def QuickSort(x):\n",
    "    equal = []\n",
    "    left = []\n",
    "    right = []\n",
    "    # 如果list長度<=1，則不必排序。\n",
    "    if len(x) <= 1:\n",
    "        return x\n",
    "    else:\n",
    "        # 設位於[0]的值為pivot\n",
    "        pivot = x[0]\n",
    "    for i in x:\n",
    "        if i < pivot:\n",
    "            left.append(i)\n",
    "        elif i > pivot:\n",
    "            right.append(i)\n",
    "        else:\n",
    "            equal.append(i)\n",
    "    left = QuickSort(left) #對left進行quick sort\n",
    "    right = QuickSort(right) # 對right進行quick sort\n",
    "    correct = left+equal+right # 排序好的list\n",
    "    return correct"
   ]
  },
  {
   "cell_type": "code",
   "execution_count": 7,
   "metadata": {},
   "outputs": [],
   "source": [
    "example = [34,21,5,9,0,12,-3,-15]"
   ]
  },
  {
   "cell_type": "code",
   "execution_count": 8,
   "metadata": {},
   "outputs": [
    {
     "data": {
      "text/plain": [
       "[-15, -3, 0, 5, 9, 12, 21, 34]"
      ]
     },
     "execution_count": 8,
     "metadata": {},
     "output_type": "execute_result"
    }
   ],
   "source": [
    "QuickSort(example)"
   ]
  },
  {
   "cell_type": "code",
   "execution_count": null,
   "metadata": {},
   "outputs": [],
   "source": []
  }
 ],
 "metadata": {
  "kernelspec": {
   "display_name": "Python 3",
   "language": "python",
   "name": "python3"
  },
  "language_info": {
   "codemirror_mode": {
    "name": "ipython",
    "version": 3
   },
   "file_extension": ".py",
   "mimetype": "text/x-python",
   "name": "python",
   "nbconvert_exporter": "python",
   "pygments_lexer": "ipython3",
   "version": "3.6.4"
  }
 },
 "nbformat": 4,
 "nbformat_minor": 2
}
