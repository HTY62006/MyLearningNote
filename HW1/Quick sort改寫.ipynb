{
 "cells": [
  {
   "cell_type": "markdown",
   "metadata": {},
   "source": [
    "參考：\n",
    "* [[ 資料結構 ] 快速排序法（Quick sort）in Python](http://jialin128.pixnet.net/blog/post/142927691-%5B-%E8%B3%87%E6%96%99%E7%B5%90%E6%A7%8B-%5D-%E5%BF%AB%E9%80%9F%E6%8E%92%E5%BA%8F%E6%B3%95%EF%BC%88quick-sort%EF%BC%89in-python)"
   ]
  },
  {
   "cell_type": "markdown",
   "metadata": {},
   "source": [
    "事到如今我想再解釋什麼也是於事無補，畢竟我無法去證明說當初自己未參考該網頁下方的code，實際寫出後的code也是相似程度達到會被認為「借鑑過度」的程度。\n",
    "<br><br>由於老師在課堂上和我們強調過，不要先急著在電腦上寫code，要在紙上先想好要怎麼做再來寫。\n",
    "<br>我也確實是先在紙上寫好大致架構，並將過程發展推了一遍才將實際在電腦上撰寫code。\n",
    "<br>以下是我當初在紙上將預計進行的每步驟推演的過程：\n",
    "<a data-flickr-embed=\"true\" href=\"https://www.flickr.com/photos/185210380@N02/48971725771/in/dateposted-public/\" title=\"流程\"><img src=\"https://live.staticflickr.com/65535/48971725771_28e252b882_k.jpg\" width=\"2048\" height=\"980\" alt=\"流程\"></a><script async src=\"//embedr.flickr.com/assets/client-code.js\" charset=\"utf-8\"></script>\n",
    "**點擊圖片可看大圖**"
   ]
  },
  {
   "cell_type": "markdown",
   "metadata": {},
   "source": [
    "## 原先的做法\n",
    "理解：\n",
    "1. 創建三個空list，分別為left、right、equal。\n",
    "2. 判斷list的長度是否<=1，因為此時無法再分。若為是，則回傳輸入的list；若不是，則隨機挑選一個值作為基準點。\n",
    "3. 因基準點是隨機挑選的，決定將list的首位當成基準點。\n",
    "4. 用for迴圈來判斷list中的每一個值屬於哪個部分\n",
    "   * 小於基準值的話，放在基準值的左邊，因此會被新增進left。\n",
    "   * 大於基準值的話，放在基準值的右邊，因此會被新增進right。\n",
    "   * 基準值會被放進equal。\n",
    "5. 因為要進行遞迴，所以會持續對需要進行分類的left與right進行quick sort。\n",
    "6. 當分到最後無法再分時，即停止。將排序後的left+equal+right回傳（因此時每個list長度不是0就是1，照順序加起來時會等於一個已排序好的片段），上一層的left和right會被回傳排序好的值給取代，成為新的left和right，再與equal相加......以此類推。\n",
    "7. 最後可得到排序好的list。"
   ]
  },
  {
   "cell_type": "code",
   "execution_count": 11,
   "metadata": {},
   "outputs": [],
   "source": [
    "def QuickSort(x):\n",
    "    equal = [] # 用來存放基準點\n",
    "    left = [] # 用來存放比基準點小的值\n",
    "    right = [] # 用來存放比基準點大的值\n",
    "    # 如果list長度<=1，則不必排序。\n",
    "    if len(x) <= 1:\n",
    "        return x\n",
    "    else:\n",
    "        # 設位於[0]的值為pivot\n",
    "        pivot = x[0]\n",
    "    for i in x:\n",
    "        if i < pivot: # 判斷x中小於基準點的值\n",
    "            left.append(i) # 新增進left\n",
    "        elif i > pivot: # 判斷x中大於基準點的值\n",
    "            right.append(i) # 新增進right\n",
    "        else:\n",
    "            equal.append(i) # 存放基準點\n",
    "    left = QuickSort(left) #對left進行quick sort，直到無法再分\n",
    "    right = QuickSort(right) # 對right進行quick sort，直到無法再分\n",
    "    correct = left+equal+right # 排序好的list片段\n",
    "    return correct #回傳排序好的片段"
   ]
  },
  {
   "cell_type": "code",
   "execution_count": 36,
   "metadata": {},
   "outputs": [
    {
     "data": {
      "text/plain": [
       "[-15, -3, 0, 5, 9, 12, 21, 34]"
      ]
     },
     "execution_count": 36,
     "metadata": {},
     "output_type": "execute_result"
    }
   ],
   "source": [
    "example = [34,21,5,9,0,12,-3,-15]\n",
    "QuickSort(example)"
   ]
  },
  {
   "cell_type": "markdown",
   "metadata": {},
   "source": [
    "## 以我的邏輯重寫\n",
    "以自己的邏輯重寫，並嘗試著不要創建那麼多額外空間（在先前了解quick sort觀念時，我知道若要不使用額外空間需要將list內的值交換位置）。"
   ]
  },
  {
   "cell_type": "markdown",
   "metadata": {},
   "source": [
    "因為想從頭開始判斷list中的值需不需要交換，改以最後一位作為基準點。"
   ]
  },
  {
   "cell_type": "code",
   "execution_count": 14,
   "metadata": {},
   "outputs": [],
   "source": [
    "def quicksort(x):\n",
    "    if len(x) > 1:\n",
    "        last = len(x)-1\n",
    "        pivot = x[last]\n",
    "        change_index = -1 # 用來標記需要互換位置的index\n",
    "        j = 0 # 用來判斷的index\n",
    "        while j <= last:\n",
    "            if x[j] < pivot:\n",
    "                change_index += 1\n",
    "            elif x[j] == pivot:\n",
    "                change_index += 1\n",
    "                # 互換\n",
    "                c = x[change_index]\n",
    "                s = x[j]\n",
    "                x[change_index] = s\n",
    "                x[j] = c\n",
    "                now_pi = j # 現在基準點所在的位置\n",
    "                \n",
    "        # 對較小與較大的兩邊各自進行quick sort\n",
    "        L = quicksort(x[:now_pi-1])\n",
    "        R = quicksort(x[now_pi+1:])\n",
    "        return L+[pivot]+R\n",
    "    return x"
   ]
  },
  {
   "cell_type": "markdown",
   "metadata": {},
   "source": [
    "![image](https://images.plurk.com/4QpcvugfAwkgvXn5izTa9I.png)\n",
    "這邊在用值進去測試時出了點問題，跑了很久結果都跑不出來，檢查了一遍發現是while迴圈忘記在最後加上j+=1。"
   ]
  },
  {
   "cell_type": "code",
   "execution_count": 76,
   "metadata": {},
   "outputs": [],
   "source": [
    "def quicksort(x):\n",
    "    if len(x) > 1:\n",
    "        last = len(x)-1\n",
    "        pivot = x[last]\n",
    "        change_index = -1 # 用來標記需要互換位置的index\n",
    "        j = 0 # 用來判斷的index\n",
    "        while j <= last:\n",
    "            if x[j] < pivot:\n",
    "                change_index += 1\n",
    "            elif x[j] == pivot:\n",
    "                change_index += 1\n",
    "                # 互換\n",
    "                c = x[change_index]\n",
    "                s = x[j]\n",
    "                x[change_index] = s\n",
    "                x[j] = c\n",
    "                now_pi = change_index # 現在基準點所在的位置\n",
    "            # 因為要讓x[j]去判斷與pivot，j+=1才能接著去檢查下一個list中的index的值\n",
    "            j+=1\n",
    "        # 對較小與較大的兩邊各自進行quick sort\n",
    "        L = quicksort(x[:now_pi-1])\n",
    "        R = quicksort(x[now_pi+1:])\n",
    "        return L+[pivot]+R\n",
    "    return x"
   ]
  },
  {
   "cell_type": "code",
   "execution_count": 77,
   "metadata": {},
   "outputs": [
    {
     "data": {
      "text/plain": [
       "[-3, 9, 0, 5, 5, 9, 21, -15, 5, 5, 21, 12, 0, 34]"
      ]
     },
     "execution_count": 77,
     "metadata": {},
     "output_type": "execute_result"
    }
   ],
   "source": [
    "example = [34,21,5,9,0,12,-3,-15]\n",
    "quicksort(example)"
   ]
  },
  {
   "cell_type": "markdown",
   "metadata": {},
   "source": [
    "example未排序成功。\n",
    "<br>想辦法釐清自己原本的想法在轉化成程式碼時是否有哪出錯，因為這和我原先設想的並不一致。\n",
    "<br>原先的設想與流程圖：\n",
    "![image](https://raw.githubusercontent.com/HTY62006/MyLearningNote/master/large_image/DSC_0048.JPG)\n",
    "<br><br>先測試若不加入遞迴前，程式輸出值的內容。"
   ]
  },
  {
   "cell_type": "code",
   "execution_count": 86,
   "metadata": {},
   "outputs": [],
   "source": [
    "def quicksort(x):\n",
    "    if len(x) > 1:\n",
    "        last = len(x)-1\n",
    "        pivot = x[last]\n",
    "        change_index = -1 # 用來標記需要互換位置的index\n",
    "        j = 0 # 用來判斷的index\n",
    "        while j <= last:\n",
    "            if x[j] < pivot:\n",
    "                change_index += 1\n",
    "            elif x[j] == pivot:\n",
    "                change_index += 1\n",
    "                # 互換\n",
    "                c = x[change_index]\n",
    "                s = x[j]\n",
    "                x[change_index] = s\n",
    "                x[j] = c\n",
    "                now_pi = change_index # 現在基準點所在的位置\n",
    "                print(j, x)\n",
    "                return now_pi\n",
    "            # 因為要讓x[j]去判斷與pivot，j+=1才能接著去檢查下一個list中的index的值\n",
    "            j+=1\n",
    "    return x"
   ]
  },
  {
   "cell_type": "markdown",
   "metadata": {},
   "source": [
    "用一簡短list測試來釐清錯誤\n",
    "<br><br>理想狀況是希望可以像這樣：\n",
    "* 步驟3的結果──pivot+Right=[3,4]=步驟2的Left\n",
    "* 步驟2的結果──Left+pivot+Right=[3,4,5]=步驟1的Right\n",
    "* 步驟1的結果──Left+pivot+Right=[-1,0,3,4,5]──排序完畢"
   ]
  },
  {
   "cell_type": "code",
   "execution_count": 112,
   "metadata": {},
   "outputs": [
    {
     "name": "stdout",
     "output_type": "stream",
     "text": [
      "4 [-1, 0, 4, 3, 5]\n"
     ]
    },
    {
     "data": {
      "text/plain": [
       "1"
      ]
     },
     "execution_count": 112,
     "metadata": {},
     "output_type": "execute_result"
    }
   ],
   "source": [
    "# 步驟1\n",
    "ex = [-1,5,4,3,0]\n",
    "quicksort(ex)\n",
    "# Left+pivot=[-1,0]"
   ]
  },
  {
   "cell_type": "code",
   "execution_count": 127,
   "metadata": {},
   "outputs": [
    {
     "name": "stdout",
     "output_type": "stream",
     "text": [
      "[]\n"
     ]
    }
   ],
   "source": [
    "left=ex[:1-1]\n",
    "right=ex[1+1:]\n",
    "print(left)"
   ]
  },
  {
   "cell_type": "code",
   "execution_count": 128,
   "metadata": {},
   "outputs": [
    {
     "data": {
      "text/plain": [
       "[]"
      ]
     },
     "execution_count": 128,
     "metadata": {},
     "output_type": "execute_result"
    }
   ],
   "source": [
    "# 步驟2\n",
    "quicksort(left)"
   ]
  },
  {
   "cell_type": "code",
   "execution_count": 129,
   "metadata": {},
   "outputs": [
    {
     "name": "stdout",
     "output_type": "stream",
     "text": [
      "2 [4, 3, 5]\n"
     ]
    },
    {
     "data": {
      "text/plain": [
       "2"
      ]
     },
     "execution_count": 129,
     "metadata": {},
     "output_type": "execute_result"
    }
   ],
   "source": [
    "quicksort(right)"
   ]
  },
  {
   "cell_type": "code",
   "execution_count": 130,
   "metadata": {},
   "outputs": [
    {
     "name": "stdout",
     "output_type": "stream",
     "text": [
      "[4]\n",
      "[]\n"
     ]
    }
   ],
   "source": [
    "left = right[:2-1]\n",
    "right = right[2+1:]\n",
    "print(left)\n",
    "print(right)"
   ]
  },
  {
   "cell_type": "markdown",
   "metadata": {},
   "source": [
    "### 發現錯誤：在抓取比基準值小的範圍(L)時設錯\n",
    "參考資料：https://chusiang.gitbooks.io/using-python/ListAndTuple.html"
   ]
  },
  {
   "cell_type": "markdown",
   "metadata": {},
   "source": [
    "list在抓取範圍時，選取範圍是到右值的前一位。\n",
    "<br>以list=[2,5,3,0,6,9]為例，若想抓取list[1:4]，則輸出結果會是[5,3,0]，不會是[5,3,0,6]。\n",
    "<br>同理，若我現在想抓list[:3]，輸出結果會是[2,5,3]，不包括位於list[3]的0。"
   ]
  },
  {
   "cell_type": "code",
   "execution_count": 131,
   "metadata": {},
   "outputs": [],
   "source": [
    "def quicksort(x):\n",
    "    if len(x) > 1:\n",
    "        last = len(x)-1\n",
    "        pivot = x[last]\n",
    "        change_index = -1 # 用來標記需要互換位置的index\n",
    "        j = 0 # 用來判斷的index\n",
    "        while j <= last:\n",
    "            if x[j] < pivot:\n",
    "                change_index += 1\n",
    "            elif x[j] == pivot:\n",
    "                change_index += 1\n",
    "                # 互換\n",
    "                c = x[change_index]\n",
    "                s = x[j]\n",
    "                x[change_index] = s\n",
    "                x[j] = c\n",
    "                now_pi = change_index # 現在基準點所在的位置\n",
    "            # 因為要讓x[j]去判斷與pivot，j+=1才能接著去檢查下一個list中的index的值\n",
    "            j+=1\n",
    "        # 對較小與較大的兩邊各自進行quick sort\n",
    "        L = quicksort(x[:now_pi])\n",
    "        R = quicksort(x[now_pi+1:])\n",
    "        return L+[pivot]+R\n",
    "    return x"
   ]
  },
  {
   "cell_type": "code",
   "execution_count": 132,
   "metadata": {},
   "outputs": [
    {
     "data": {
      "text/plain": [
       "[-1, 0, 3, 4, 5]"
      ]
     },
     "execution_count": 132,
     "metadata": {},
     "output_type": "execute_result"
    }
   ],
   "source": [
    "ex = [-1,5,4,3,0]\n",
    "quicksort(ex)"
   ]
  },
  {
   "cell_type": "code",
   "execution_count": 133,
   "metadata": {},
   "outputs": [
    {
     "data": {
      "text/plain": [
       "[-15, -3, 0, 5, 9, 12, 21, 34]"
      ]
     },
     "execution_count": 133,
     "metadata": {},
     "output_type": "execute_result"
    }
   ],
   "source": [
    "example = [34,21,5,9,0,12,-3,-15]\n",
    "quicksort(example)"
   ]
  },
  {
   "cell_type": "markdown",
   "metadata": {},
   "source": [
    "排序成功，如此一來便和我原先設想的一致了。"
   ]
  },
  {
   "cell_type": "code",
   "execution_count": null,
   "metadata": {},
   "outputs": [],
   "source": []
  }
 ],
 "metadata": {
  "kernelspec": {
   "display_name": "Python 3",
   "language": "python",
   "name": "python3"
  },
  "language_info": {
   "codemirror_mode": {
    "name": "ipython",
    "version": 3
   },
   "file_extension": ".py",
   "mimetype": "text/x-python",
   "name": "python",
   "nbconvert_exporter": "python",
   "pygments_lexer": "ipython3",
   "version": "3.6.4"
  }
 },
 "nbformat": 4,
 "nbformat_minor": 2
}
